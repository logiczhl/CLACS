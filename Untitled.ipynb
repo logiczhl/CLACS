{
 "cells": [
  {
   "cell_type": "code",
   "execution_count": 40,
   "id": "e45e3cc5-73e5-4334-8bb0-445f0518040b",
   "metadata": {},
   "outputs": [],
   "source": [
    "import numpy as np\n",
    "import pandas as pd"
   ]
  },
  {
   "cell_type": "code",
   "execution_count": 41,
   "id": "9230271f-d7a7-4231-a4eb-8e613dc42c4a",
   "metadata": {},
   "outputs": [],
   "source": [
    "string = 'beijing'\n",
    "data_temp = pd.read_excel('常规产量数据.xlsx')\n",
    "data = pd.read_csv('{}.csv'.format(string),usecols=['cityName','city_confirmedCount','updateTime'])\n",
    "\n",
    "data['updateTime'] = pd.to_datetime(data['updateTime']).dt.date\n",
    "\n",
    "# 对数据按照 updateTime 列和 cityName 列进行分组，对每个分组内的数据求平均值\n",
    "data = data.groupby(['updateTime', 'cityName']).max()\n",
    "\n",
    "# 将 cityName 列设为索引\n",
    "df_pivot = data.pivot_table(index='cityName', columns='updateTime', values='city_confirmedCount')\n",
    "# df_pivot.to_csv('1.csv',encoding='gbk')"
   ]
  },
  {
   "cell_type": "code",
   "execution_count": 42,
   "id": "4268ab1e-4168-4c4d-92ee-82e1d1a848b8",
   "metadata": {},
   "outputs": [
    {
     "data": {
      "text/plain": [
       "Index(['cityName', '2020-01-24', '2020-01-25', '2020-01-26', '2020-01-27',\n",
       "       '2020-01-28', '2020-01-29', '2020-01-30', '2020-01-31', '2020-02-01',\n",
       "       ...\n",
       "       '2022-12-05', '2022-12-06', '2022-12-07', '2022-12-08', '2022-12-09',\n",
       "       '2022-12-10', '2022-12-11', '2022-12-12', '2022-12-13', '2022-12-14'],\n",
       "      dtype='object', length=684)"
      ]
     },
     "execution_count": 42,
     "metadata": {},
     "output_type": "execute_result"
    }
   ],
   "source": [
    "# 转换数据\n",
    "for index, row in df_pivot.iterrows():\n",
    "    if '外来' in index:\n",
    "        df_pivot = df_pivot.drop(index)\n",
    "df_pivot = df_pivot.fillna(method=\"bfill\", axis=1)\n",
    "df_pivot.to_csv('df_pivot.csv',encoding='gbk')\n",
    "df_pivot = pd.read_csv('df_pivot.csv',encoding='gbk')\n",
    "df_pivot.columns"
   ]
  },
  {
   "cell_type": "code",
   "execution_count": 43,
   "id": "089e80c6-9f67-4671-922b-bb10ec82141e",
   "metadata": {},
   "outputs": [],
   "source": [
    "# for i in range(len(data_temp)):\n",
    "#     temp = data_temp['市'].loc[i].split('市')\n",
    "#     data_temp['市'].loc[i] = temp[0]"
   ]
  },
  {
   "cell_type": "code",
   "execution_count": 44,
   "id": "6e0d88d9-a319-477d-b986-e3b329ce4964",
   "metadata": {},
   "outputs": [
    {
     "data": {
      "text/plain": [
       "\"\\n\\nmydict = {}\\nfor i in range(len(data_temp)):\\n    mydict[data_temp['市'].loc[i]] = data_temp['邮编'].loc[i]\\ndf_pivot['邮编'] = 0\\nfor i in range(len(df_pivot)):\\n    if df_pivot['cityName'].loc[i] not in list(mydict.keys()):\\n        df_pivot = df_pivot.drop(i)\\ndf_pivot = df_pivot.reset_index(drop=True)\\ndf_pivot\\n\""
      ]
     },
     "execution_count": 44,
     "metadata": {},
     "output_type": "execute_result"
    }
   ],
   "source": [
    "# 创建查询\n",
    "'''\n",
    "\n",
    "mydict = {}\n",
    "for i in range(len(data_temp)):\n",
    "    mydict[data_temp['市'].loc[i]] = data_temp['邮编'].loc[i]\n",
    "df_pivot['邮编'] = 0\n",
    "for i in range(len(df_pivot)):\n",
    "    if df_pivot['cityName'].loc[i] not in list(mydict.keys()):\n",
    "        df_pivot = df_pivot.drop(i)\n",
    "df_pivot = df_pivot.reset_index(drop=True)\n",
    "df_pivot\n",
    "'''"
   ]
  },
  {
   "cell_type": "code",
   "execution_count": 45,
   "id": "fb7539be-31d4-46db-936e-378025af0c68",
   "metadata": {},
   "outputs": [],
   "source": [
    "#for i in range(len(df_pivot)):\n",
    "#    df_pivot['邮编'].loc[i] = mydict[df_pivot['cityName'].loc[i]]\n",
    "\n",
    "# df_pivot = df_pivot.sort_values(by=['邮编'], ascending=True)\n",
    "df_pivot.to_csv('{}.csv'.format(string),encoding='gbk')"
   ]
  },
  {
   "cell_type": "code",
   "execution_count": 46,
   "id": "209b9e34-3b33-4ac1-b7cd-d031d922faaa",
   "metadata": {},
   "outputs": [],
   "source": [
    "import numpy as np\n",
    "import pandas as pd\n",
    "string = 'tianjin'\n",
    "data_temp = pd.read_excel('常规产量数据.xlsx')\n",
    "data = pd.read_csv('{}.csv'.format(string),usecols=['cityName','city_confirmedCount','updateTime'])\n",
    "\n",
    "data['updateTime'] = pd.to_datetime(data['updateTime']).dt.date\n",
    "\n",
    "# 对数据按照 updateTime 列和 cityName 列进行分组，对每个分组内的数据求平均值\n",
    "data = data.groupby(['updateTime', 'cityName']).max()\n",
    "\n",
    "# 将 cityName 列设为索引\n",
    "df_pivot = data.pivot_table(index='cityName', columns='updateTime', values='city_confirmedCount')\n",
    "# df_pivot.to_csv('1.csv',encoding='gbk')\n",
    "# 转换数据\n",
    "for index, row in df_pivot.iterrows():\n",
    "    if '外来' in index:\n",
    "        df_pivot = df_pivot.drop(index)\n",
    "df_pivot = df_pivot.fillna(method=\"bfill\", axis=1)\n",
    "df_pivot.to_csv('df_pivot.csv',encoding='gbk')\n",
    "df_pivot = pd.read_csv('df_pivot.csv',encoding='gbk')\n",
    "df_pivot.columns\n",
    "df_pivot.to_csv('{}.csv'.format(string),encoding='gbk')"
   ]
  },
  {
   "cell_type": "code",
   "execution_count": null,
   "id": "cf3242ff-4a9c-4291-9be7-a0f1951190e1",
   "metadata": {},
   "outputs": [],
   "source": []
  }
 ],
 "metadata": {
  "kernelspec": {
   "display_name": "Python 3",
   "language": "python",
   "name": "python3"
  },
  "language_info": {
   "codemirror_mode": {
    "name": "ipython",
    "version": 3
   },
   "file_extension": ".py",
   "mimetype": "text/x-python",
   "name": "python",
   "nbconvert_exporter": "python",
   "pygments_lexer": "ipython3",
   "version": "3.8.8"
  }
 },
 "nbformat": 4,
 "nbformat_minor": 5
}
