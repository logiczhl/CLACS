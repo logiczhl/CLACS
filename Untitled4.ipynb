{
 "cells": [
  {
   "cell_type": "code",
   "execution_count": 4,
   "id": "ef5a4a21-fd5c-4648-b32c-bed69286cfa9",
   "metadata": {},
   "outputs": [],
   "source": [
    "import os\n",
    "import pandas as pd\n",
    "\n",
    "# 文件夹路径\n",
    "folder_path = './729/各常规情景'\n",
    "\n",
    "# 新的Excel文件名\n",
    "output_file = './729/各常规情景/各常规情景.xlsx'\n",
    "\n",
    "# 获取文件夹下所有Excel文件\n",
    "excel_files = [f for f in os.listdir(folder_path) if f.endswith('.xlsx')]\n",
    "\n",
    "# 创建新的Excel写入器\n",
    "excel_writer = pd.ExcelWriter(output_file, engine='xlsxwriter')\n",
    "\n",
    "# 遍历所有Excel文件\n",
    "for excel_file in excel_files:\n",
    "    # 读取Excel文件\n",
    "    df = pd.read_excel(os.path.join(folder_path, excel_file))\n",
    "    # 将Excel文件写入新的Excel文件中，sheet名使用原Excel文件名\n",
    "    df.to_excel(excel_writer, sheet_name=os.path.splitext(excel_file)[0], index=False)\n",
    "\n",
    "# 保存新的Excel文件\n",
    "excel_writer.save()"
   ]
  },
  {
   "cell_type": "code",
   "execution_count": null,
   "id": "bd09088e-dffe-4efa-aaea-541cec4e8a5b",
   "metadata": {},
   "outputs": [],
   "source": []
  }
 ],
 "metadata": {
  "kernelspec": {
   "display_name": "Python 3",
   "language": "python",
   "name": "python3"
  },
  "language_info": {
   "codemirror_mode": {
    "name": "ipython",
    "version": 3
   },
   "file_extension": ".py",
   "mimetype": "text/x-python",
   "name": "python",
   "nbconvert_exporter": "python",
   "pygments_lexer": "ipython3",
   "version": "3.8.8"
  }
 },
 "nbformat": 4,
 "nbformat_minor": 5
}
