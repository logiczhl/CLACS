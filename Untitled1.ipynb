{
 "cells": [
  {
   "cell_type": "code",
   "execution_count": 19,
   "id": "66eb9eae-93dc-4870-b1a3-ad0366e96a0d",
   "metadata": {},
   "outputs": [],
   "source": [
    "import pandas as pd\n",
    "data = pd.read_csv('DXYArea.csv',usecols=['cityName','city_confirmedCount','updateTime','provinceName'])\n",
    "data1 = data[data['provinceName'] == '重庆市']\n",
    "data1 = data1.drop('provinceName', axis=1)\n",
    "data1.to_csv('chongqing.csv')"
   ]
  },
  {
   "cell_type": "code",
   "execution_count": 20,
   "id": "d84376ca-2d95-4d56-a34b-885d5b874590",
   "metadata": {},
   "outputs": [],
   "source": [
    "import numpy as np\n",
    "import pandas as pd\n",
    "string = 'chongqing'\n",
    "data_temp = pd.read_excel('常规产量数据.xlsx')\n",
    "data = pd.read_csv('{}.csv'.format(string),usecols=['cityName','city_confirmedCount','updateTime'])\n",
    "\n",
    "data['updateTime'] = pd.to_datetime(data['updateTime']).dt.date\n",
    "\n",
    "# 对数据按照 updateTime 列和 cityName 列进行分组，对每个分组内的数据求平均值\n",
    "data = data.groupby(['updateTime', 'cityName']).max()\n",
    "\n",
    "# 将 cityName 列设为索引\n",
    "df_pivot = data.pivot_table(index='cityName', columns='updateTime', values='city_confirmedCount')\n",
    "# df_pivot.to_csv('1.csv',encoding='gbk')\n",
    "# 转换数据\n",
    "for index, row in df_pivot.iterrows():\n",
    "    if '外来' in index:\n",
    "        df_pivot = df_pivot.drop(index)\n",
    "df_pivot = df_pivot.fillna(method=\"bfill\", axis=1)\n",
    "df_pivot.to_csv('df_pivot.csv',encoding='gbk')\n",
    "df_pivot = pd.read_csv('df_pivot.csv',encoding='gbk')\n",
    "df_pivot.columns\n",
    "df_pivot.to_csv('{}.csv'.format(string),encoding='gbk')"
   ]
  },
  {
   "cell_type": "code",
   "execution_count": 8,
   "id": "cd1d1256-6818-4214-a30a-e77fffb4fb33",
   "metadata": {},
   "outputs": [],
   "source": []
  },
  {
   "cell_type": "code",
   "execution_count": null,
   "id": "0cf21ade-110b-40d0-ab7b-e8cdcb48bc7b",
   "metadata": {},
   "outputs": [],
   "source": []
  }
 ],
 "metadata": {
  "kernelspec": {
   "display_name": "Python 3",
   "language": "python",
   "name": "python3"
  },
  "language_info": {
   "codemirror_mode": {
    "name": "ipython",
    "version": 3
   },
   "file_extension": ".py",
   "mimetype": "text/x-python",
   "name": "python",
   "nbconvert_exporter": "python",
   "pygments_lexer": "ipython3",
   "version": "3.8.8"
  }
 },
 "nbformat": 4,
 "nbformat_minor": 5
}
